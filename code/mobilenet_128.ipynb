{
  "nbformat": 4,
  "nbformat_minor": 0,
  "metadata": {
    "colab": {
      "provenance": []
    },
    "kernelspec": {
      "name": "python3",
      "display_name": "Python 3"
    },
    "language_info": {
      "name": "python"
    },
    "accelerator": "GPU",
    "gpuClass": "standard"
  },
  "cells": [
    {
      "cell_type": "code",
      "execution_count": 2,
      "metadata": {
        "id": "LXSHnbrChg6M",
        "colab": {
          "base_uri": "https://localhost:8080/"
        },
        "outputId": "9b5b0344-d754-4b19-ab64-c256959f788a"
      },
      "outputs": [
        {
          "output_type": "stream",
          "name": "stdout",
          "text": [
            "Reading package lists... Done\n",
            "Building dependency tree       \n",
            "Reading state information... Done\n",
            "fonts-nanum is already the newest version (20170925-1).\n",
            "The following package was automatically installed and is no longer required:\n",
            "  libnvidia-common-460\n",
            "Use 'apt autoremove' to remove it.\n",
            "0 upgraded, 0 newly installed, 0 to remove and 5 not upgraded.\n"
          ]
        }
      ],
      "source": [
        "!apt install fonts-nanum -y\n",
        "\n",
        "import matplotlib\n",
        "import matplotlib.pyplot as plt\n",
        "import matplotlib.font_manager as fm\n",
        "\n",
        "from matplotlib import rc\n",
        "import seaborn as sns\n",
        "%matplotlib inline\n",
        "\n",
        "path = 'C:\\\\WINDOWS\\\\Fonts\\\\나눔고딕Bold.ttf'\n",
        "fontprop = fm.FontProperties(fname=path)\n",
        "\n",
        "import os\n",
        "import shutil"
      ]
    },
    {
      "cell_type": "code",
      "source": [
        "import matplotlib.pyplot as plt\n",
        "\n",
        "import tensorflow as tf\n",
        "from tensorflow.keras.preprocessing import image_dataset_from_directory\n",
        "from tensorflow.keras.models import Model\n",
        "from keras import optimizers, initializers, regularizers, metrics\n",
        "from tensorflow import keras\n",
        "from tensorflow.python.keras import layers,Sequential\n",
        "from tensorflow.keras.layers import Conv2D,Dropout,Dense,Dropout,Activation,MaxPooling2D,Flatten\n",
        "from tensorflow.keras import regularizers\n",
        "from sklearn.model_selection import train_test_split\n",
        "import numpy as np\n",
        "import tensorflow_datasets as tfds\n",
        "from keras.optimizers import Adam, RMSprop\n",
        "\n",
        "from keras.models import Sequential\n",
        "from keras.layers import Dense, Dropout, LSTM, BatchNormalization\n",
        "from keras.callbacks import TensorBoard\n",
        "from keras.callbacks import ModelCheckpoint"
      ],
      "metadata": {
        "id": "S4L9xJlMvfE4"
      },
      "execution_count": 3,
      "outputs": []
    },
    {
      "cell_type": "markdown",
      "source": [
        "# 압축 풀기"
      ],
      "metadata": {
        "id": "NDpoFZE1tg4U"
      }
    },
    {
      "cell_type": "code",
      "source": [
        "# !unzip -qq '/content/drive/MyDrive/pytorch/test/test.zip' -d '/content/drive/MyDrive/pytorch/test/'\n",
        "# !unzip -qq '/content/drive/MyDrive/pytorch/train/train.zip' -d '/content/drive/MyDrive/pytorch/train/'\n",
        "!unzip -qq '/content/drive/MyDrive/pytorch/total/car.zip' -d '/content/drive/MyDrive/pytorch/total/'"
      ],
      "metadata": {
        "id": "JNHURBvSoFiL"
      },
      "execution_count": 6,
      "outputs": []
    },
    {
      "cell_type": "code",
      "source": [
        "import torch\n",
        "import torch.nn as nn\n",
        "import torch.optim as optim\n",
        "\n",
        "import torchvision\n",
        "from torchvision import datasets, models, transforms\n",
        "\n",
        "import numpy as np\n",
        "import time\n",
        "\n",
        "\n",
        "device = torch.device(\"cuda:0\" if torch.cuda.is_available() else \"cpu\") # device 객체"
      ],
      "metadata": {
        "id": "P54sc8Nmh8c5"
      },
      "execution_count": 4,
      "outputs": []
    },
    {
      "cell_type": "code",
      "source": [
        "# 데이터셋을 불러올 때 사용할 변형(transformation) 객체 정의\n",
        "\n",
        "data_dir = '/content/drive/MyDrive/pytorch/total'\n",
        "\n",
        "train_ds = tf.keras.preprocessing.image_dataset_from_directory(\n",
        "  data_dir,\n",
        "  validation_split=0.2,\n",
        "  subset=\"training\",\n",
        "  seed=123,\n",
        "  image_size=(224,224),\n",
        "  batch_size=64)\n",
        "\n",
        "val_ds = tf.keras.preprocessing.image_dataset_from_directory(\n",
        "  data_dir,\n",
        "  validation_split=0.2,\n",
        "  subset='validation',\n",
        "  seed=123,\n",
        "  image_size=(224,224),\n",
        "  batch_size=64)"
      ],
      "metadata": {
        "colab": {
          "base_uri": "https://localhost:8080/"
        },
        "id": "pHbpHYX6iURH",
        "outputId": "307b0dc6-01a9-4306-98fe-0f1fe380ec8e"
      },
      "execution_count": 7,
      "outputs": [
        {
          "output_type": "stream",
          "name": "stdout",
          "text": [
            "Found 9900 files belonging to 33 classes.\n",
            "Using 7920 files for training.\n",
            "Found 9900 files belonging to 33 classes.\n",
            "Using 1980 files for validation.\n"
          ]
        }
      ]
    },
    {
      "cell_type": "markdown",
      "source": [
        "# mobilenet 모델"
      ],
      "metadata": {
        "id": "q7h9vV6NvNfO"
      }
    },
    {
      "cell_type": "code",
      "source": [
        "from tensorflow.keras.applications.mobilenet import MobileNet\n",
        "base_model = MobileNet(weights='imagenet', include_top=False, input_shape=(224,224,3))\n",
        "\n",
        "num = 1\n",
        "for layer in base_model.layers:\n",
        "  if num > 27:\n",
        "    layer.trainable = True\n",
        "  num += 1\n",
        "\n",
        "model = Sequential()\n",
        "\n",
        "model.add(tf.keras.layers.experimental.preprocessing.Rescaling(1./255, input_shape=(224,224,3)))\n",
        "\n",
        "model.add(base_model)\n",
        "\n",
        "model.add(Conv2D(64, (3, 3), padding='same'))\n",
        "model.add(Activation('relu'))\n",
        "model.add(MaxPooling2D(pool_size=(2, 2)))\n",
        "model.add(Dropout(0.25))\n",
        "\n",
        "model.add(Conv2D(32, (3, 3), padding='same'))\n",
        "model.add(Activation('relu'))\n",
        "model.add(MaxPooling2D(pool_size=(2, 2)))\n",
        "model.add(Dropout(0.25))\n",
        "\n",
        "model.add(Flatten()) \n",
        "\n",
        "model.add(Dense(512, kernel_regularizer=regularizers.l2(0.0001)))\n",
        "model.add(Activation('relu'))\n",
        "model.add(Dropout(0.5))\n",
        "\n",
        "model.add(Dense(128))\n",
        "model.add(Activation('relu'))\n",
        "model.add(Dropout(0.5))\n",
        "\n",
        "model.add(Dense(33, activation='softmax'))\n",
        "\n",
        "model.compile(loss=tf.keras.losses.sparse_categorical_crossentropy, \n",
        "optimizer=RMSprop(learning_rate=0.001), metrics=['accuracy'])\n",
        "\n",
        "hist = model.fit(train_ds,batch_size=64,epochs=30,validation_data=val_ds)"
      ],
      "metadata": {
        "id": "EyanImWnic98",
        "colab": {
          "base_uri": "https://localhost:8080/"
        },
        "outputId": "8fd01c85-ef0c-4e83-cd58-e20b582d47be"
      },
      "execution_count": 9,
      "outputs": [
        {
          "output_type": "stream",
          "name": "stdout",
          "text": [
            "Epoch 1/30\n",
            "124/124 [==============================] - 73s 456ms/step - loss: 3.5495 - accuracy: 0.0379 - val_loss: 3.4239 - val_accuracy: 0.0505\n",
            "Epoch 2/30\n",
            "124/124 [==============================] - 55s 433ms/step - loss: 3.2509 - accuracy: 0.0620 - val_loss: 3.2211 - val_accuracy: 0.0737\n",
            "Epoch 3/30\n",
            "124/124 [==============================] - 56s 440ms/step - loss: 2.9056 - accuracy: 0.1025 - val_loss: 2.7692 - val_accuracy: 0.1187\n",
            "Epoch 4/30\n",
            "124/124 [==============================] - 55s 433ms/step - loss: 2.6604 - accuracy: 0.1540 - val_loss: 2.6371 - val_accuracy: 0.1768\n",
            "Epoch 5/30\n",
            "124/124 [==============================] - 55s 433ms/step - loss: 2.4766 - accuracy: 0.1981 - val_loss: 2.4031 - val_accuracy: 0.2394\n",
            "Epoch 6/30\n",
            "124/124 [==============================] - 56s 431ms/step - loss: 2.3605 - accuracy: 0.2288 - val_loss: 2.4781 - val_accuracy: 0.2247\n",
            "Epoch 7/30\n",
            "124/124 [==============================] - 55s 432ms/step - loss: 2.2642 - accuracy: 0.2538 - val_loss: 2.2945 - val_accuracy: 0.2586\n",
            "Epoch 8/30\n",
            "124/124 [==============================] - 55s 431ms/step - loss: 2.2076 - accuracy: 0.2769 - val_loss: 3.2801 - val_accuracy: 0.2818\n",
            "Epoch 9/30\n",
            "124/124 [==============================] - 61s 476ms/step - loss: 2.1417 - accuracy: 0.2961 - val_loss: 2.3684 - val_accuracy: 0.3298\n",
            "Epoch 10/30\n",
            "124/124 [==============================] - 55s 432ms/step - loss: 2.0948 - accuracy: 0.3109 - val_loss: 2.6167 - val_accuracy: 0.3141\n",
            "Epoch 11/30\n",
            "124/124 [==============================] - 56s 436ms/step - loss: 2.0288 - accuracy: 0.3174 - val_loss: 1.9243 - val_accuracy: 0.3591\n",
            "Epoch 12/30\n",
            "124/124 [==============================] - 56s 438ms/step - loss: 1.9681 - accuracy: 0.3388 - val_loss: 2.3374 - val_accuracy: 0.3389\n",
            "Epoch 13/30\n",
            "124/124 [==============================] - 55s 432ms/step - loss: 1.9114 - accuracy: 0.3562 - val_loss: 1.7862 - val_accuracy: 0.4177\n",
            "Epoch 14/30\n",
            "124/124 [==============================] - 56s 436ms/step - loss: 1.8254 - accuracy: 0.3801 - val_loss: 1.8758 - val_accuracy: 0.3621\n",
            "Epoch 15/30\n",
            "124/124 [==============================] - 56s 439ms/step - loss: 1.8087 - accuracy: 0.3980 - val_loss: 2.3499 - val_accuracy: 0.3813\n",
            "Epoch 16/30\n",
            "124/124 [==============================] - 56s 436ms/step - loss: 1.7634 - accuracy: 0.4093 - val_loss: 1.7946 - val_accuracy: 0.3929\n",
            "Epoch 17/30\n",
            "124/124 [==============================] - 55s 432ms/step - loss: 1.7108 - accuracy: 0.4163 - val_loss: 1.7460 - val_accuracy: 0.4096\n",
            "Epoch 18/30\n",
            "124/124 [==============================] - 56s 437ms/step - loss: 1.6747 - accuracy: 0.4302 - val_loss: 1.9682 - val_accuracy: 0.4167\n",
            "Epoch 19/30\n",
            "124/124 [==============================] - 55s 433ms/step - loss: 1.6581 - accuracy: 0.4422 - val_loss: 1.6646 - val_accuracy: 0.4399\n",
            "Epoch 20/30\n",
            "124/124 [==============================] - 55s 434ms/step - loss: 1.6544 - accuracy: 0.4516 - val_loss: 1.7433 - val_accuracy: 0.4449\n",
            "Epoch 21/30\n",
            "124/124 [==============================] - 56s 437ms/step - loss: 1.6095 - accuracy: 0.4538 - val_loss: 2.2363 - val_accuracy: 0.3641\n",
            "Epoch 22/30\n",
            "124/124 [==============================] - 56s 434ms/step - loss: 1.5592 - accuracy: 0.4674 - val_loss: 1.8044 - val_accuracy: 0.4470\n",
            "Epoch 23/30\n",
            "124/124 [==============================] - 56s 437ms/step - loss: 1.5380 - accuracy: 0.4795 - val_loss: 1.8511 - val_accuracy: 0.4864\n",
            "Epoch 24/30\n",
            "124/124 [==============================] - 56s 441ms/step - loss: 1.5932 - accuracy: 0.4705 - val_loss: 3.0812 - val_accuracy: 0.4030\n",
            "Epoch 25/30\n",
            "124/124 [==============================] - 56s 441ms/step - loss: 1.5260 - accuracy: 0.4838 - val_loss: 1.6460 - val_accuracy: 0.4616\n",
            "Epoch 26/30\n",
            "124/124 [==============================] - 56s 437ms/step - loss: 1.4813 - accuracy: 0.4943 - val_loss: 1.6021 - val_accuracy: 0.4914\n",
            "Epoch 27/30\n",
            "124/124 [==============================] - 56s 434ms/step - loss: 1.4814 - accuracy: 0.5158 - val_loss: 2.3468 - val_accuracy: 0.4985\n",
            "Epoch 28/30\n",
            "124/124 [==============================] - 56s 436ms/step - loss: 1.4695 - accuracy: 0.5178 - val_loss: 1.5730 - val_accuracy: 0.5222\n",
            "Epoch 29/30\n",
            "124/124 [==============================] - 56s 436ms/step - loss: 1.4063 - accuracy: 0.5265 - val_loss: 2.4075 - val_accuracy: 0.4268\n",
            "Epoch 30/30\n",
            "124/124 [==============================] - 55s 434ms/step - loss: 1.4011 - accuracy: 0.5250 - val_loss: 1.5856 - val_accuracy: 0.5293\n"
          ]
        }
      ]
    },
    {
      "cell_type": "code",
      "source": [
        "model.evaluate(train_ds), model.evaluate(val_ds)"
      ],
      "metadata": {
        "id": "uyDj_QGbvTuF",
        "colab": {
          "base_uri": "https://localhost:8080/"
        },
        "outputId": "e87981ab-46b3-4c0b-d18d-2a8323666aeb"
      },
      "execution_count": 11,
      "outputs": [
        {
          "output_type": "stream",
          "name": "stdout",
          "text": [
            "124/124 [==============================] - 28s 216ms/step - loss: 1.2629 - accuracy: 0.5683\n",
            "31/31 [==============================] - 7s 184ms/step - loss: 1.5856 - accuracy: 0.5293\n"
          ]
        },
        {
          "output_type": "execute_result",
          "data": {
            "text/plain": [
              "([1.262904167175293, 0.5683080554008484],\n",
              " [1.5856225490570068, 0.5292929410934448])"
            ]
          },
          "metadata": {},
          "execution_count": 11
        }
      ]
    },
    {
      "cell_type": "code",
      "source": [
        "# 시각화하기\n",
        "import matplotlib.pyplot as plt\n",
        "\n",
        "plt.style.use('default')\n",
        "plt.rcParams['figure.figsize'] = (4, 3)\n",
        "plt.rcParams['font.size'] = 12\n",
        "\n",
        "loss = hist.history['loss']\n",
        "accuracy = hist.history['accuracy']\n",
        "\n",
        "plt.plot(loss)\n",
        "# plt.plot(accuracy)\n",
        "plt.xlabel('Epoch')\n",
        "plt.ylabel('Loss')\n",
        "plt.show()"
      ],
      "metadata": {
        "id": "eGffutz3zqJV",
        "colab": {
          "base_uri": "https://localhost:8080/",
          "height": 319
        },
        "outputId": "ae55c9fd-038b-4ff9-f055-295cf84ec3e2"
      },
      "execution_count": 18,
      "outputs": [
        {
          "output_type": "display_data",
          "data": {
            "text/plain": [
              "<Figure size 400x300 with 1 Axes>"
            ],
            "image/png": "[encoded data removed]"
          },
          "metadata": {}
        }
      ]
    },
    {
      "cell_type": "code",
      "source": [],
      "metadata": {
        "id": "SWy_HhTIAjL_"
      },
      "execution_count": null,
      "outputs": []
    }
  ]
}